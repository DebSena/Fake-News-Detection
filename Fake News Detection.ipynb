{
 "cells": [
  {
   "cell_type": "markdown",
   "id": "55d36b09-4cb8-4599-be71-01f4c98559fa",
   "metadata": {},
   "source": [
    "# Fake News Detection Using Python"
   ]
  },
  {
   "cell_type": "code",
   "execution_count": 1,
   "id": "c146c61f-07ce-47c8-8393-96bcc1936c71",
   "metadata": {
    "tags": []
   },
   "outputs": [],
   "source": [
    "import pandas as pd\n",
    "import numpy as np\n",
    "from sklearn.feature_extraction.text import CountVectorizer\n",
    "from sklearn.model_selection import train_test_split\n",
    "from sklearn.naive_bayes import MultinomialNB"
   ]
  },
  {
   "cell_type": "markdown",
   "id": "d045821a-f339-4a5b-99eb-a18a1c8b8df6",
   "metadata": {},
   "source": [
    "### Importing data from the dataset\n",
    "Dataset from Kaggle:\n",
    "Link: <a href = \"https://www.kaggle.com/datasets/hassanamin/textdb3?resource=download\"> Click Me </a>"
   ]
  },
  {
   "cell_type": "code",
   "execution_count": 4,
   "id": "ca8f72f6-a6a1-4959-a041-6edc3d602a01",
   "metadata": {
    "tags": []
   },
   "outputs": [],
   "source": [
    "data = pd.read_csv('fake_or_real_news.csv')"
   ]
  },
  {
   "cell_type": "code",
   "execution_count": 6,
   "id": "4aa1a487-4724-49d1-adf4-5df159f3aea7",
   "metadata": {
    "tags": []
   },
   "outputs": [
    {
     "name": "stdout",
     "output_type": "stream",
     "text": [
      "   Unnamed: 0                                              title  \\\n",
      "0        8476                       You Can Smell Hillary’s Fear   \n",
      "1       10294  Watch The Exact Moment Paul Ryan Committed Pol...   \n",
      "2        3608        Kerry to go to Paris in gesture of sympathy   \n",
      "3       10142  Bernie supporters on Twitter erupt in anger ag...   \n",
      "4         875   The Battle of New York: Why This Primary Matters   \n",
      "\n",
      "                                                text label  \n",
      "0  Daniel Greenfield, a Shillman Journalism Fello...  FAKE  \n",
      "1  Google Pinterest Digg Linkedin Reddit Stumbleu...  FAKE  \n",
      "2  U.S. Secretary of State John F. Kerry said Mon...  REAL  \n",
      "3  — Kaydee King (@KaydeeKing) November 9, 2016 T...  FAKE  \n",
      "4  It's primary day in New York and front-runners...  REAL  \n"
     ]
    }
   ],
   "source": [
    "print(data.head())"
   ]
  },
  {
   "cell_type": "code",
   "execution_count": 9,
   "id": "49159035-bc30-4e0e-a23e-5431fc6ea07b",
   "metadata": {
    "tags": []
   },
   "outputs": [
    {
     "data": {
      "text/plain": [
       "(6335, 4)"
      ]
     },
     "execution_count": 9,
     "metadata": {},
     "output_type": "execute_result"
    }
   ],
   "source": [
    "data.shape"
   ]
  },
  {
   "cell_type": "markdown",
   "id": "675bc0ad-25ba-4748-ac24-327535dfa6ab",
   "metadata": {},
   "source": [
    "### Checking if there is any missing values"
   ]
  },
  {
   "cell_type": "code",
   "execution_count": 14,
   "id": "49e0d7ec-c81f-4576-8e09-cee73b0fdd4b",
   "metadata": {
    "tags": []
   },
   "outputs": [
    {
     "data": {
      "text/plain": [
       "Unnamed: 0    0\n",
       "title         0\n",
       "text          0\n",
       "label         0\n",
       "dtype: int64"
      ]
     },
     "execution_count": 14,
     "metadata": {},
     "output_type": "execute_result"
    }
   ],
   "source": [
    "data.isnull().sum()"
   ]
  },
  {
   "cell_type": "markdown",
   "id": "33e0e507-365f-474b-b948-d3989daa5533",
   "metadata": {},
   "source": [
    "##### As there are no missing values then let us use the title column as the feature to train the model"
   ]
  },
  {
   "cell_type": "code",
   "execution_count": 22,
   "id": "87b4d1ba-7b7b-4132-b607-e1bec5c210d6",
   "metadata": {
    "tags": []
   },
   "outputs": [],
   "source": [
    "x=np.array(data['title'])\n",
    "y=np.array(data['label'])\n",
    "Vectorizer = CountVectorizer()\n",
    "x = Vectorizer.fit_transform(x)"
   ]
  },
  {
   "cell_type": "code",
   "execution_count": 30,
   "id": "ce44f210-434f-419d-b80c-581feda87066",
   "metadata": {
    "tags": []
   },
   "outputs": [
    {
     "name": "stdout",
     "output_type": "stream",
     "text": [
      "['00' '000' '00pm' ... 'مطالعاتی' 'مورد' 'کدآمایی']\n"
     ]
    }
   ],
   "source": [
    "feature_name = Vectorizer.get_feature_names_out()\n",
    "print(feature_name)"
   ]
  },
  {
   "cell_type": "code",
   "execution_count": 32,
   "id": "05d57de7-0675-4497-ba01-27f236eb6d69",
   "metadata": {
    "tags": []
   },
   "outputs": [
    {
     "name": "stdout",
     "output_type": "stream",
     "text": [
      "[[0 0 0 ... 0 0 0]\n",
      " [0 0 0 ... 0 0 0]\n",
      " [0 0 0 ... 0 0 0]\n",
      " ...\n",
      " [0 0 0 ... 0 0 0]\n",
      " [0 0 0 ... 0 0 0]\n",
      " [0 0 0 ... 0 0 0]]\n"
     ]
    }
   ],
   "source": [
    "print(x.toarray())"
   ]
  },
  {
   "cell_type": "code",
   "execution_count": 73,
   "id": "62f894de-3e86-4e68-b501-8d3535ffae36",
   "metadata": {
    "tags": []
   },
   "outputs": [
    {
     "data": {
      "text/plain": [
       "0.8310970797158642"
      ]
     },
     "execution_count": 73,
     "metadata": {},
     "output_type": "execute_result"
    }
   ],
   "source": [
    "X_train,X_test,Y_train,Y_test = train_test_split(x,y,test_size=0.2,random_state=10)\n",
    "model = MultinomialNB()\n",
    "model.fit(X_train,Y_train)\n",
    "model.score(X_test,Y_test)"
   ]
  },
  {
   "cell_type": "markdown",
   "id": "50ec185b-1146-46ec-a9dd-305c3fe9f3d7",
   "metadata": {},
   "source": [
    "#### Testing the Trained Model"
   ]
  },
  {
   "cell_type": "code",
   "execution_count": 99,
   "id": "57a5b337-e5e7-4d87-8c18-7730c879b821",
   "metadata": {
    "tags": []
   },
   "outputs": [
    {
     "name": "stdout",
     "output_type": "stream",
     "text": [
      "[[0 0 0 ... 0 0 0]]\n"
     ]
    }
   ],
   "source": [
    "news = \"2016 Republican race enters a new, volatile phase\"\n",
    "data = Vectorizer.transform(['news']).toarray()\n",
    "print(data)"
   ]
  },
  {
   "cell_type": "code",
   "execution_count": 97,
   "id": "eea8d1c0-1131-4a9a-bfa2-2d3156ff8b69",
   "metadata": {
    "tags": []
   },
   "outputs": [
    {
     "name": "stdout",
     "output_type": "stream",
     "text": [
      "['FAKE']\n"
     ]
    }
   ],
   "source": [
    "print(model.predict(data))"
   ]
  },
  {
   "cell_type": "code",
   "execution_count": 95,
   "id": "1e8ca24c-9133-46f2-8d48-e058a4dfc2eb",
   "metadata": {
    "tags": []
   },
   "outputs": [
    {
     "name": "stdout",
     "output_type": "stream",
     "text": [
      "['FAKE']\n"
     ]
    }
   ],
   "source": [
    "news_headline = \"Cow dung can cure Corona Virus\"\n",
    "data = Vectorizer.transform([news_headline]).toarray()\n",
    "print(model.predict(data))"
   ]
  },
  {
   "cell_type": "code",
   "execution_count": null,
   "id": "01f21c52-b1d1-4f56-9fb9-3cd4933de7d7",
   "metadata": {},
   "outputs": [],
   "source": [
    "print(model.f1_score)"
   ]
  }
 ],
 "metadata": {
  "kernelspec": {
   "display_name": "Python 3 (ipykernel)",
   "language": "python",
   "name": "python3"
  },
  "language_info": {
   "codemirror_mode": {
    "name": "ipython",
    "version": 3
   },
   "file_extension": ".py",
   "mimetype": "text/x-python",
   "name": "python",
   "nbconvert_exporter": "python",
   "pygments_lexer": "ipython3",
   "version": "3.11.5"
  }
 },
 "nbformat": 4,
 "nbformat_minor": 5
}
